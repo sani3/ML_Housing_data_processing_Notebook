{
 "cells": [
  {
   "cell_type": "markdown",
   "id": "defensive-shark",
   "metadata": {},
   "source": [
    "# Preprocessing housing data for machine learning"
   ]
  },
  {
   "cell_type": "markdown",
   "id": "amended-wyoming",
   "metadata": {},
   "source": [
    "The purpose of this processing is to prepare the houising data for training and testing a regression model that could predict median_house_value"
   ]
  },
  {
   "cell_type": "markdown",
   "id": "fresh-vertical",
   "metadata": {},
   "source": [
    "The following packages are required for the data processing"
   ]
  },
  {
   "cell_type": "code",
   "execution_count": 15,
   "id": "decimal-awareness",
   "metadata": {},
   "outputs": [],
   "source": [
    "import os\n",
    "import numpy as np\n",
    "import matplotlib.pyplot as plt\n",
    "#import leaflet maybe follium\n",
    "\n",
    "from clean_data import remove_samples_with_na_value, remove_samples_with_na_value\n",
    "from correlation import co\n",
    "from data_split import strat_split, add_discrete\n",
    "from explore_data import print_head, print_info, print_describe, plot_hist, print_category_levels\n",
    "from get_data import load_data, get_extract_data\n",
    "from new_features import create_feat\n",
    "from prepere_data import x_y_split, imput_na, encode_ordered_text\n",
    "from transform import ScaleNumFields\n",
    "from visualize import vis1, vis2"
   ]
  },
  {
   "cell_type": "markdown",
   "id": "velvet-budget",
   "metadata": {},
   "source": [
    "## Get the data"
   ]
  },
  {
   "cell_type": "markdown",
   "id": "heard-driver",
   "metadata": {},
   "source": [
    "The housing data is available online at DATA_URL. We need to download and extract the data to a data directory at DATA_PATH on the local machine"
   ]
  },
  {
   "cell_type": "code",
   "execution_count": 2,
   "id": "incorporated-findings",
   "metadata": {},
   "outputs": [],
   "source": [
    "DOWNLOAD_ROOT = \"https://raw.githubusercontent.com/ageron/handson-ml2/master/\"\n",
    "DATA_PATH = os.path.join(\"datasets\", \"housing\")\n",
    "DATA_URL = DOWNLOAD_ROOT + \"datasets/housing/housing.tgz\""
   ]
  },
  {
   "cell_type": "markdown",
   "id": "signed-lightning",
   "metadata": {},
   "source": [
    "We need internet connecttion to get and extract the dataMake sure you are connected to the internet to get the data"
   ]
  },
  {
   "cell_type": "code",
   "execution_count": null,
   "id": "52965c6c",
   "metadata": {},
   "outputs": [],
   "source": [
    "get_extract_data(data_url=DATA_URL, data_path=DATA_PATH)"
   ]
  },
  {
   "cell_type": "markdown",
   "id": "technical-claim",
   "metadata": {},
   "source": [
    "## Load the data"
   ]
  },
  {
   "cell_type": "markdown",
   "id": "selected-tribune",
   "metadata": {},
   "source": [
    "Lets load the data from the local data directory to a DataFrame named housing"
   ]
  },
  {
   "cell_type": "code",
   "execution_count": 3,
   "id": "unexpected-conspiracy",
   "metadata": {},
   "outputs": [],
   "source": [
    "housing = load_data(data_path=DATA_PATH, file_name=\"housing.csv\")"
   ]
  },
  {
   "cell_type": "markdown",
   "id": "hired-insulin",
   "metadata": {},
   "source": [
    "## Explore housing data"
   ]
  },
  {
   "cell_type": "markdown",
   "id": "fancy-combat",
   "metadata": {},
   "source": [
    "Let us preview the top five rows of the data"
   ]
  },
  {
   "cell_type": "code",
   "execution_count": 4,
   "id": "persistent-basin",
   "metadata": {},
   "outputs": [
    {
     "name": "stdout",
     "output_type": "stream",
     "text": [
      "   longitude  latitude  housing_median_age  total_rooms  total_bedrooms  \\\n",
      "0    -122.23     37.88                41.0        880.0           129.0   \n",
      "1    -122.22     37.86                21.0       7099.0          1106.0   \n",
      "2    -122.24     37.85                52.0       1467.0           190.0   \n",
      "3    -122.25     37.85                52.0       1274.0           235.0   \n",
      "4    -122.25     37.85                52.0       1627.0           280.0   \n",
      "\n",
      "   population  households  median_income  median_house_value ocean_proximity  \n",
      "0       322.0       126.0         8.3252            452600.0        NEAR BAY  \n",
      "1      2401.0      1138.0         8.3014            358500.0        NEAR BAY  \n",
      "2       496.0       177.0         7.2574            352100.0        NEAR BAY  \n",
      "3       558.0       219.0         5.6431            341300.0        NEAR BAY  \n",
      "4       565.0       259.0         3.8462            342200.0        NEAR BAY  \n"
     ]
    }
   ],
   "source": [
    "print_head(housing)"
   ]
  },
  {
   "cell_type": "markdown",
   "id": "square-description",
   "metadata": {},
   "source": [
    "Lets get information on the data"
   ]
  },
  {
   "cell_type": "code",
   "execution_count": 5,
   "id": "standing-safety",
   "metadata": {},
   "outputs": [
    {
     "name": "stdout",
     "output_type": "stream",
     "text": [
      "<class 'pandas.core.frame.DataFrame'>\n",
      "RangeIndex: 20640 entries, 0 to 20639\n",
      "Data columns (total 10 columns):\n",
      " #   Column              Non-Null Count  Dtype  \n",
      "---  ------              --------------  -----  \n",
      " 0   longitude           20640 non-null  float64\n",
      " 1   latitude            20640 non-null  float64\n",
      " 2   housing_median_age  20640 non-null  float64\n",
      " 3   total_rooms         20640 non-null  float64\n",
      " 4   total_bedrooms      20433 non-null  float64\n",
      " 5   population          20640 non-null  float64\n",
      " 6   households          20640 non-null  float64\n",
      " 7   median_income       20640 non-null  float64\n",
      " 8   median_house_value  20640 non-null  float64\n",
      " 9   ocean_proximity     20640 non-null  object \n",
      "dtypes: float64(9), object(1)\n",
      "memory usage: 1.6+ MB\n",
      "None\n"
     ]
    }
   ],
   "source": [
    "print_info(housing)"
   ]
  },
  {
   "cell_type": "markdown",
   "id": "fewer-locking",
   "metadata": {},
   "source": [
    "From the information:\n",
    "1. There are 20640 samples (records)\n",
    "2. There are 10 columns\n",
    "3. All columns except ocean_proximity are numeric\n",
    "4. Only the column total_bedrooms have missing values. There are only 20433 data ponit on the column"
   ]
  },
  {
   "cell_type": "markdown",
   "id": "residential-arabic",
   "metadata": {},
   "source": [
    "Let us remove the samples that have missing values."
   ]
  },
  {
   "cell_type": "code",
   "execution_count": 6,
   "id": "corresponding-search",
   "metadata": {},
   "outputs": [],
   "source": [
    "housing = remove_samples_with_na_value(housing)"
   ]
  },
  {
   "cell_type": "markdown",
   "id": "adjacent-static",
   "metadata": {},
   "source": [
    "The data should now have 20433 samples. Let us confirm that from the information of the DataFrame"
   ]
  },
  {
   "cell_type": "code",
   "execution_count": 7,
   "id": "nearby-portland",
   "metadata": {},
   "outputs": [
    {
     "name": "stdout",
     "output_type": "stream",
     "text": [
      "<class 'pandas.core.frame.DataFrame'>\n",
      "Int64Index: 20433 entries, 0 to 20639\n",
      "Data columns (total 10 columns):\n",
      " #   Column              Non-Null Count  Dtype  \n",
      "---  ------              --------------  -----  \n",
      " 0   longitude           20433 non-null  float64\n",
      " 1   latitude            20433 non-null  float64\n",
      " 2   housing_median_age  20433 non-null  float64\n",
      " 3   total_rooms         20433 non-null  float64\n",
      " 4   total_bedrooms      20433 non-null  float64\n",
      " 5   population          20433 non-null  float64\n",
      " 6   households          20433 non-null  float64\n",
      " 7   median_income       20433 non-null  float64\n",
      " 8   median_house_value  20433 non-null  float64\n",
      " 9   ocean_proximity     20433 non-null  object \n",
      "dtypes: float64(9), object(1)\n",
      "memory usage: 1.7+ MB\n",
      "None\n"
     ]
    }
   ],
   "source": [
    "print_info(housing)"
   ]
  },
  {
   "cell_type": "markdown",
   "id": "floppy-attraction",
   "metadata": {},
   "source": [
    "There are indeed exactly 20433 samples, but the original index of the data remains unchanged (0 to 20639), Let us fix the index so that it will range from 0 to 20432"
   ]
  },
  {
   "cell_type": "code",
   "execution_count": 8,
   "id": "finite-morning",
   "metadata": {},
   "outputs": [],
   "source": [
    "housing.index = range(housing.shape[0])"
   ]
  },
  {
   "cell_type": "markdown",
   "id": "varied-closing",
   "metadata": {},
   "source": [
    "Let us confirm that the data is indexed as expected."
   ]
  },
  {
   "cell_type": "code",
   "execution_count": 9,
   "id": "agreed-orientation",
   "metadata": {},
   "outputs": [
    {
     "name": "stdout",
     "output_type": "stream",
     "text": [
      "<class 'pandas.core.frame.DataFrame'>\n",
      "RangeIndex: 20433 entries, 0 to 20432\n",
      "Data columns (total 10 columns):\n",
      " #   Column              Non-Null Count  Dtype  \n",
      "---  ------              --------------  -----  \n",
      " 0   longitude           20433 non-null  float64\n",
      " 1   latitude            20433 non-null  float64\n",
      " 2   housing_median_age  20433 non-null  float64\n",
      " 3   total_rooms         20433 non-null  float64\n",
      " 4   total_bedrooms      20433 non-null  float64\n",
      " 5   population          20433 non-null  float64\n",
      " 6   households          20433 non-null  float64\n",
      " 7   median_income       20433 non-null  float64\n",
      " 8   median_house_value  20433 non-null  float64\n",
      " 9   ocean_proximity     20433 non-null  object \n",
      "dtypes: float64(9), object(1)\n",
      "memory usage: 1.6+ MB\n",
      "None\n"
     ]
    }
   ],
   "source": [
    "print_info(housing)"
   ]
  },
  {
   "cell_type": "markdown",
   "id": "differential-hampshire",
   "metadata": {},
   "source": [
    "let us explore the ocean_proximity column which is a text field"
   ]
  },
  {
   "cell_type": "code",
   "execution_count": 10,
   "id": "peripheral-advice",
   "metadata": {},
   "outputs": [
    {
     "name": "stdout",
     "output_type": "stream",
     "text": [
      "0        NEAR BAY\n",
      "1        NEAR BAY\n",
      "2        NEAR BAY\n",
      "3        NEAR BAY\n",
      "4        NEAR BAY\n",
      "           ...   \n",
      "20428      INLAND\n",
      "20429      INLAND\n",
      "20430      INLAND\n",
      "20431      INLAND\n",
      "20432      INLAND\n",
      "Name: ocean_proximity, Length: 20433, dtype: object\n"
     ]
    }
   ],
   "source": [
    "text_fields = ['ocean_proximity']\n",
    "print(housing[\"ocean_proximity\"])"
   ]
  },
  {
   "cell_type": "markdown",
   "id": "a8657b96",
   "metadata": {},
   "source": [
    "ocean_proximity should be a categorical variable, let us cast it to a category type"
   ]
  },
  {
   "cell_type": "code",
   "execution_count": 11,
   "id": "162fbd3b",
   "metadata": {},
   "outputs": [],
   "source": [
    "housing[\"ocean_proximity\"] = housing[\"ocean_proximity\"].astype(\"category\")"
   ]
  },
  {
   "cell_type": "markdown",
   "id": "e2602058",
   "metadata": {},
   "source": [
    "Let us comfirm that ocean_proximity is now a categoricatl field"
   ]
  },
  {
   "cell_type": "code",
   "execution_count": 12,
   "id": "0c8d75ab",
   "metadata": {},
   "outputs": [
    {
     "data": {
      "text/plain": [
       "0        NEAR BAY\n",
       "1        NEAR BAY\n",
       "2        NEAR BAY\n",
       "3        NEAR BAY\n",
       "4        NEAR BAY\n",
       "           ...   \n",
       "20428      INLAND\n",
       "20429      INLAND\n",
       "20430      INLAND\n",
       "20431      INLAND\n",
       "20432      INLAND\n",
       "Name: ocean_proximity, Length: 20433, dtype: category\n",
       "Categories (5, object): ['<1H OCEAN', 'INLAND', 'ISLAND', 'NEAR BAY', 'NEAR OCEAN']"
      ]
     },
     "execution_count": 12,
     "metadata": {},
     "output_type": "execute_result"
    }
   ],
   "source": [
    "housing[\"ocean_proximity\"]"
   ]
  },
  {
   "cell_type": "markdown",
   "id": "2718090f",
   "metadata": {},
   "source": [
    "Assuming the following order of ocean_proximity ['INLAND', '<1H OCEAN', 'NEAR OCEAN', 'NEAR BAY', 'ISLAND'], we have to reorder the category"
   ]
  },
  {
   "cell_type": "code",
   "execution_count": 13,
   "id": "a75e7f25",
   "metadata": {},
   "outputs": [],
   "source": [
    "housing[\"ocean_proximity\"] = housing[\"ocean_proximity\"].cat.reorder_categories(\n",
    "    ['INLAND', '<1H OCEAN', 'NEAR OCEAN', 'NEAR BAY', 'ISLAND']\n",
    ")"
   ]
  },
  {
   "cell_type": "markdown",
   "id": "76f7d419",
   "metadata": {},
   "source": [
    "Let us preview the ocean_proximity column again"
   ]
  },
  {
   "cell_type": "code",
   "execution_count": 14,
   "id": "a81c14cf",
   "metadata": {},
   "outputs": [
    {
     "data": {
      "text/plain": [
       "0        NEAR BAY\n",
       "1        NEAR BAY\n",
       "2        NEAR BAY\n",
       "3        NEAR BAY\n",
       "4        NEAR BAY\n",
       "           ...   \n",
       "20428      INLAND\n",
       "20429      INLAND\n",
       "20430      INLAND\n",
       "20431      INLAND\n",
       "20432      INLAND\n",
       "Name: ocean_proximity, Length: 20433, dtype: category\n",
       "Categories (5, object): ['INLAND', '<1H OCEAN', 'NEAR OCEAN', 'NEAR BAY', 'ISLAND']"
      ]
     },
     "execution_count": 14,
     "metadata": {},
     "output_type": "execute_result"
    }
   ],
   "source": [
    "housing[\"ocean_proximity\"]"
   ]
  },
  {
   "cell_type": "markdown",
   "id": "black-gambling",
   "metadata": {},
   "source": [
    "We can encode the levels of ocean_proximity wih ordinal encoding or one-hot encoding, encoding allows for a numeric representation of levels of a categorical variable. Let us use ordered encoding since it is clear that the levels are ordered. We also have to remove the ocean_proximity column after encoding it"
   ]
  },
  {
   "cell_type": "code",
   "execution_count": 16,
   "id": "assumed-juvenile",
   "metadata": {},
   "outputs": [],
   "source": [
    "housing = encode_ordered_text(housing, text_fields)"
   ]
  },
  {
   "cell_type": "markdown",
   "id": "7426eea6",
   "metadata": {},
   "source": [
    "Let us preview the housing data now"
   ]
  },
  {
   "cell_type": "code",
   "execution_count": 17,
   "id": "unsigned-judges",
   "metadata": {},
   "outputs": [
    {
     "name": "stdout",
     "output_type": "stream",
     "text": [
      "   longitude  latitude  housing_median_age  total_rooms  total_bedrooms  \\\n",
      "0    -122.23     37.88                41.0        880.0           129.0   \n",
      "1    -122.22     37.86                21.0       7099.0          1106.0   \n",
      "2    -122.24     37.85                52.0       1467.0           190.0   \n",
      "3    -122.25     37.85                52.0       1274.0           235.0   \n",
      "4    -122.25     37.85                52.0       1627.0           280.0   \n",
      "\n",
      "   population  households  median_income  median_house_value  ocean_proximity  \n",
      "0       322.0       126.0         8.3252            452600.0              3.0  \n",
      "1      2401.0      1138.0         8.3014            358500.0              3.0  \n",
      "2       496.0       177.0         7.2574            352100.0              3.0  \n",
      "3       558.0       219.0         5.6431            341300.0              3.0  \n",
      "4       565.0       259.0         3.8462            342200.0              3.0  \n"
     ]
    }
   ],
   "source": [
    "print_head(housing)"
   ]
  },
  {
   "cell_type": "markdown",
   "id": "0b896f8d",
   "metadata": {},
   "source": [
    "Let us also view the information on the DataFrame"
   ]
  },
  {
   "cell_type": "code",
   "execution_count": 18,
   "id": "e8128185",
   "metadata": {},
   "outputs": [
    {
     "name": "stdout",
     "output_type": "stream",
     "text": [
      "<class 'pandas.core.frame.DataFrame'>\n",
      "RangeIndex: 20433 entries, 0 to 20432\n",
      "Data columns (total 10 columns):\n",
      " #   Column              Non-Null Count  Dtype  \n",
      "---  ------              --------------  -----  \n",
      " 0   longitude           20433 non-null  float64\n",
      " 1   latitude            20433 non-null  float64\n",
      " 2   housing_median_age  20433 non-null  float64\n",
      " 3   total_rooms         20433 non-null  float64\n",
      " 4   total_bedrooms      20433 non-null  float64\n",
      " 5   population          20433 non-null  float64\n",
      " 6   households          20433 non-null  float64\n",
      " 7   median_income       20433 non-null  float64\n",
      " 8   median_house_value  20433 non-null  float64\n",
      " 9   ocean_proximity     20433 non-null  float64\n",
      "dtypes: float64(10)\n",
      "memory usage: 1.6 MB\n",
      "None\n"
     ]
    }
   ],
   "source": [
    "print_info(housing)"
   ]
  },
  {
   "cell_type": "markdown",
   "id": "a60c8778",
   "metadata": {},
   "source": [
    "Note that all the columns are now numeric specifically of type float64, there are 10 columns, 20433 samples and no missing values"
   ]
  },
  {
   "cell_type": "markdown",
   "id": "a5c6f3e9",
   "metadata": {},
   "source": [
    "## Data Visualization"
   ]
  },
  {
   "cell_type": "markdown",
   "id": "4b61a4bd",
   "metadata": {},
   "source": [
    "Let us view the distribution of location of the samples on a scatter plot. Thesame information could be projected on a basemap. The ocean is on the lower lf"
   ]
  },
  {
   "cell_type": "code",
   "execution_count": 36,
   "id": "85d93e50",
   "metadata": {},
   "outputs": [
    {
     "data": {
      "text/plain": [
       "<AxesSubplot:title={'center':'Location of samples'}, xlabel='longitude', ylabel='latitude'>"
      ]
     },
     "execution_count": 36,
     "metadata": {},
     "output_type": "execute_result"
    },
    {
     "data": {
      "image/png": "[encoded data removed]",
      "text/plain": [
       "<Figure size 432x288 with 1 Axes>"
      ]
     },
     "metadata": {
      "needs_background": "light"
     },
     "output_type": "display_data"
    }
   ],
   "source": [
    "housing.plot(kind=\"scatter\", x=\"longitude\", y=\"latitude\", title=\"Location of samples\")"
   ]
  },
  {
   "cell_type": "code",
   "execution_count": null,
   "id": "42e9b19a",
   "metadata": {},
   "outputs": [],
   "source": []
  }
 ],
 "metadata": {
  "kernelspec": {
   "display_name": "Python 3",
   "language": "python",
   "name": "python3"
  },
  "language_info": {
   "codemirror_mode": {
    "name": "ipython",
    "version": 3
   },
   "file_extension": ".py",
   "mimetype": "text/x-python",
   "name": "python",
   "nbconvert_exporter": "python",
   "pygments_lexer": "ipython3",
   "version": "3.8.8"
  }
 },
 "nbformat": 4,
 "nbformat_minor": 5
}
